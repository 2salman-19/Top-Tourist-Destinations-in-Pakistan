{
 "cells": [
  {
   "cell_type": "code",
   "execution_count": 1,
   "id": "76b0844b",
   "metadata": {},
   "outputs": [
    {
     "name": "stdout",
     "output_type": "stream",
     "text": [
      "Requirement already satisfied: pandas in c:\\users\\tripkar\\anaconda3\\lib\\site-packages (1.4.2)Note: you may need to restart the kernel to use updated packages.\n",
      "\n",
      "Requirement already satisfied: matplotlib in c:\\users\\tripkar\\anaconda3\\lib\\site-packages (3.5.1)\n",
      "Collecting geopandas\n",
      "  Downloading geopandas-0.14.3-py3-none-any.whl (1.1 MB)\n",
      "Requirement already satisfied: pytz>=2020.1 in c:\\users\\tripkar\\anaconda3\\lib\\site-packages (from pandas) (2021.3)\n",
      "Requirement already satisfied: python-dateutil>=2.8.1 in c:\\users\\tripkar\\anaconda3\\lib\\site-packages (from pandas) (2.8.2)\n",
      "Requirement already satisfied: numpy>=1.18.5 in c:\\users\\tripkar\\anaconda3\\lib\\site-packages (from pandas) (1.22.4)\n",
      "Requirement already satisfied: fonttools>=4.22.0 in c:\\users\\tripkar\\anaconda3\\lib\\site-packages (from matplotlib) (4.25.0)\n",
      "Requirement already satisfied: pyparsing>=2.2.1 in c:\\users\\tripkar\\anaconda3\\lib\\site-packages (from matplotlib) (3.0.4)\n",
      "Requirement already satisfied: kiwisolver>=1.0.1 in c:\\users\\tripkar\\anaconda3\\lib\\site-packages (from matplotlib) (1.3.2)\n",
      "Requirement already satisfied: pillow>=6.2.0 in c:\\users\\tripkar\\anaconda3\\lib\\site-packages (from matplotlib) (9.0.1)\n",
      "Requirement already satisfied: cycler>=0.10 in c:\\users\\tripkar\\anaconda3\\lib\\site-packages (from matplotlib) (0.11.0)\n",
      "Requirement already satisfied: packaging>=20.0 in c:\\users\\tripkar\\anaconda3\\lib\\site-packages (from matplotlib) (21.3)\n",
      "Collecting fiona>=1.8.21\n",
      "  Downloading fiona-1.9.6-cp39-cp39-win_amd64.whl (22.9 MB)\n",
      "Collecting shapely>=1.8.0\n",
      "  Downloading shapely-2.0.4-cp39-cp39-win_amd64.whl (1.4 MB)\n",
      "Collecting pyproj>=3.3.0\n",
      "  Downloading pyproj-3.6.1-cp39-cp39-win_amd64.whl (6.1 MB)\n",
      "Requirement already satisfied: click~=8.0 in c:\\users\\tripkar\\anaconda3\\lib\\site-packages (from fiona>=1.8.21->geopandas) (8.1.7)\n",
      "Requirement already satisfied: attrs>=19.2.0 in c:\\users\\tripkar\\anaconda3\\lib\\site-packages (from fiona>=1.8.21->geopandas) (21.4.0)\n",
      "Requirement already satisfied: six in c:\\users\\tripkar\\anaconda3\\lib\\site-packages (from fiona>=1.8.21->geopandas) (1.16.0)\n",
      "Requirement already satisfied: certifi in c:\\users\\tripkar\\anaconda3\\lib\\site-packages (from fiona>=1.8.21->geopandas) (2021.10.8)\n",
      "Requirement already satisfied: importlib-metadata in c:\\users\\tripkar\\anaconda3\\lib\\site-packages (from fiona>=1.8.21->geopandas) (4.11.3)\n",
      "Collecting click-plugins>=1.0\n",
      "  Downloading click_plugins-1.1.1-py2.py3-none-any.whl (7.5 kB)\n",
      "Collecting cligj>=0.5\n",
      "  Downloading cligj-0.7.2-py3-none-any.whl (7.1 kB)\n",
      "Requirement already satisfied: colorama in c:\\users\\tripkar\\anaconda3\\lib\\site-packages (from click~=8.0->fiona>=1.8.21->geopandas) (0.4.4)\n",
      "Requirement already satisfied: zipp>=0.5 in c:\\users\\tripkar\\anaconda3\\lib\\site-packages (from importlib-metadata->fiona>=1.8.21->geopandas) (3.7.0)\n",
      "Installing collected packages: cligj, click-plugins, shapely, pyproj, fiona, geopandas\n",
      "Successfully installed click-plugins-1.1.1 cligj-0.7.2 fiona-1.9.6 geopandas-0.14.3 pyproj-3.6.1 shapely-2.0.4\n"
     ]
    }
   ],
   "source": [
    "pip install pandas matplotlib geopandas"
   ]
  },
  {
   "cell_type": "code",
   "execution_count": 73,
   "id": "92d58ad3",
   "metadata": {},
   "outputs": [],
   "source": [
    "import pandas as pd \n",
    "import matplotlib.pyplot as plt\n",
    "import geopandas as gpd\n",
    "from shapely.geometry import point "
   ]
  },
  {
   "cell_type": "code",
   "execution_count": 74,
   "id": "6815d7cc",
   "metadata": {},
   "outputs": [],
   "source": [
    "data=pd.read_csv(\"Tourist Destinations.csv\")"
   ]
  },
  {
   "cell_type": "code",
   "execution_count": 75,
   "id": "eb3845c7",
   "metadata": {},
   "outputs": [
    {
     "data": {
      "text/html": [
       "<div>\n",
       "<style scoped>\n",
       "    .dataframe tbody tr th:only-of-type {\n",
       "        vertical-align: middle;\n",
       "    }\n",
       "\n",
       "    .dataframe tbody tr th {\n",
       "        vertical-align: top;\n",
       "    }\n",
       "\n",
       "    .dataframe thead th {\n",
       "        text-align: right;\n",
       "    }\n",
       "</style>\n",
       "<table border=\"1\" class=\"dataframe\">\n",
       "  <thead>\n",
       "    <tr style=\"text-align: right;\">\n",
       "      <th></th>\n",
       "      <th>_key</th>\n",
       "      <th>Desc</th>\n",
       "      <th>category</th>\n",
       "      <th>district</th>\n",
       "      <th>latitude</th>\n",
       "      <th>longitude</th>\n",
       "    </tr>\n",
       "  </thead>\n",
       "  <tbody>\n",
       "    <tr>\n",
       "      <th>0</th>\n",
       "      <td>Ansoo Lake</td>\n",
       "      <td>Ansoo Lake is situated in Kaghan Valley of Pak...</td>\n",
       "      <td>Lake</td>\n",
       "      <td>Khyber Pakhtunkhwa</td>\n",
       "      <td>34.814119</td>\n",
       "      <td>73.676428</td>\n",
       "    </tr>\n",
       "    <tr>\n",
       "      <th>1</th>\n",
       "      <td>Astola Island</td>\n",
       "      <td>Astola Island, also known as Jezira Haft Talar...</td>\n",
       "      <td>Island</td>\n",
       "      <td>Balochistan</td>\n",
       "      <td>25.122321</td>\n",
       "      <td>63.847948</td>\n",
       "    </tr>\n",
       "    <tr>\n",
       "      <th>2</th>\n",
       "      <td>Attabad Lake</td>\n",
       "      <td>Attabad Lake is a lake in the Gojal Valley of ...</td>\n",
       "      <td>Lake</td>\n",
       "      <td>Gilgit−Baltistan</td>\n",
       "      <td>36.345827</td>\n",
       "      <td>74.865436</td>\n",
       "    </tr>\n",
       "    <tr>\n",
       "      <th>3</th>\n",
       "      <td>Badshahi Mosque</td>\n",
       "      <td>The Badshahi Mosque is a Mughal-era congregati...</td>\n",
       "      <td>Mosque</td>\n",
       "      <td>Punjab</td>\n",
       "      <td>31.588126</td>\n",
       "      <td>74.309322</td>\n",
       "    </tr>\n",
       "    <tr>\n",
       "      <th>4</th>\n",
       "      <td>Baltoro Glacier</td>\n",
       "      <td>The Baltoro Glacier, at 63 km (39 mi) in lengt...</td>\n",
       "      <td>Mountainous</td>\n",
       "      <td>Gilgit−Baltistan</td>\n",
       "      <td>35.710642</td>\n",
       "      <td>76.553142</td>\n",
       "    </tr>\n",
       "  </tbody>\n",
       "</table>\n",
       "</div>"
      ],
      "text/plain": [
       "              _key                                               Desc  \\\n",
       "0       Ansoo Lake  Ansoo Lake is situated in Kaghan Valley of Pak...   \n",
       "1    Astola Island  Astola Island, also known as Jezira Haft Talar...   \n",
       "2     Attabad Lake  Attabad Lake is a lake in the Gojal Valley of ...   \n",
       "3  Badshahi Mosque  The Badshahi Mosque is a Mughal-era congregati...   \n",
       "4  Baltoro Glacier  The Baltoro Glacier, at 63 km (39 mi) in lengt...   \n",
       "\n",
       "      category            district   latitude  longitude  \n",
       "0         Lake  Khyber Pakhtunkhwa  34.814119  73.676428  \n",
       "1       Island         Balochistan  25.122321  63.847948  \n",
       "2         Lake    Gilgit−Baltistan  36.345827  74.865436  \n",
       "3       Mosque              Punjab  31.588126  74.309322  \n",
       "4  Mountainous    Gilgit−Baltistan  35.710642  76.553142  "
      ]
     },
     "execution_count": 75,
     "metadata": {},
     "output_type": "execute_result"
    }
   ],
   "source": [
    "data.head()"
   ]
  },
  {
   "cell_type": "code",
   "execution_count": 76,
   "id": "e446b01b",
   "metadata": {},
   "outputs": [],
   "source": [
    "data.rename(columns = {'_key': 'place_name',\n",
    "                    'Desc': 'place_descrption'}, inplace  = True)"
   ]
  },
  {
   "cell_type": "code",
   "execution_count": 77,
   "id": "abd1c3e8",
   "metadata": {},
   "outputs": [
    {
     "data": {
      "text/html": [
       "<div>\n",
       "<style scoped>\n",
       "    .dataframe tbody tr th:only-of-type {\n",
       "        vertical-align: middle;\n",
       "    }\n",
       "\n",
       "    .dataframe tbody tr th {\n",
       "        vertical-align: top;\n",
       "    }\n",
       "\n",
       "    .dataframe thead th {\n",
       "        text-align: right;\n",
       "    }\n",
       "</style>\n",
       "<table border=\"1\" class=\"dataframe\">\n",
       "  <thead>\n",
       "    <tr style=\"text-align: right;\">\n",
       "      <th></th>\n",
       "      <th>place_name</th>\n",
       "      <th>place_descrption</th>\n",
       "      <th>category</th>\n",
       "      <th>district</th>\n",
       "      <th>latitude</th>\n",
       "      <th>longitude</th>\n",
       "    </tr>\n",
       "  </thead>\n",
       "  <tbody>\n",
       "    <tr>\n",
       "      <th>0</th>\n",
       "      <td>Ansoo Lake</td>\n",
       "      <td>Ansoo Lake is situated in Kaghan Valley of Pak...</td>\n",
       "      <td>Lake</td>\n",
       "      <td>Khyber Pakhtunkhwa</td>\n",
       "      <td>34.814119</td>\n",
       "      <td>73.676428</td>\n",
       "    </tr>\n",
       "    <tr>\n",
       "      <th>1</th>\n",
       "      <td>Astola Island</td>\n",
       "      <td>Astola Island, also known as Jezira Haft Talar...</td>\n",
       "      <td>Island</td>\n",
       "      <td>Balochistan</td>\n",
       "      <td>25.122321</td>\n",
       "      <td>63.847948</td>\n",
       "    </tr>\n",
       "    <tr>\n",
       "      <th>2</th>\n",
       "      <td>Attabad Lake</td>\n",
       "      <td>Attabad Lake is a lake in the Gojal Valley of ...</td>\n",
       "      <td>Lake</td>\n",
       "      <td>Gilgit−Baltistan</td>\n",
       "      <td>36.345827</td>\n",
       "      <td>74.865436</td>\n",
       "    </tr>\n",
       "    <tr>\n",
       "      <th>3</th>\n",
       "      <td>Badshahi Mosque</td>\n",
       "      <td>The Badshahi Mosque is a Mughal-era congregati...</td>\n",
       "      <td>Mosque</td>\n",
       "      <td>Punjab</td>\n",
       "      <td>31.588126</td>\n",
       "      <td>74.309322</td>\n",
       "    </tr>\n",
       "    <tr>\n",
       "      <th>4</th>\n",
       "      <td>Baltoro Glacier</td>\n",
       "      <td>The Baltoro Glacier, at 63 km (39 mi) in lengt...</td>\n",
       "      <td>Mountainous</td>\n",
       "      <td>Gilgit−Baltistan</td>\n",
       "      <td>35.710642</td>\n",
       "      <td>76.553142</td>\n",
       "    </tr>\n",
       "    <tr>\n",
       "      <th>...</th>\n",
       "      <td>...</td>\n",
       "      <td>...</td>\n",
       "      <td>...</td>\n",
       "      <td>...</td>\n",
       "      <td>...</td>\n",
       "      <td>...</td>\n",
       "    </tr>\n",
       "    <tr>\n",
       "      <th>64</th>\n",
       "      <td>Taxila Museum</td>\n",
       "      <td>Taxila Museum is located at Taxila, Punjab, Pa...</td>\n",
       "      <td>Museum</td>\n",
       "      <td>Punjab</td>\n",
       "      <td>33.745900</td>\n",
       "      <td>72.818700</td>\n",
       "    </tr>\n",
       "    <tr>\n",
       "      <th>65</th>\n",
       "      <td>Thal Desert</td>\n",
       "      <td>The Thal desert is situated in Punjab, Pakista...</td>\n",
       "      <td>Desert</td>\n",
       "      <td>Punjab</td>\n",
       "      <td>31.228100</td>\n",
       "      <td>71.809900</td>\n",
       "    </tr>\n",
       "    <tr>\n",
       "      <th>66</th>\n",
       "      <td>The Lahore Museum</td>\n",
       "      <td>The Lahore Museum, is a museum located in Laho...</td>\n",
       "      <td>Museum</td>\n",
       "      <td>Punjab</td>\n",
       "      <td>31.568400</td>\n",
       "      <td>74.308100</td>\n",
       "    </tr>\n",
       "    <tr>\n",
       "      <th>67</th>\n",
       "      <td>Umbrella Waterfall Poona</td>\n",
       "      <td>Umbrella Waterfall is 150 km from Islamabad an...</td>\n",
       "      <td>Waterfall</td>\n",
       "      <td>Khyber Pakhtunkhwa</td>\n",
       "      <td>33.977090</td>\n",
       "      <td>73.482380</td>\n",
       "    </tr>\n",
       "    <tr>\n",
       "      <th>68</th>\n",
       "      <td>West Bay Beach</td>\n",
       "      <td>The West Bay Beach lies on the Makran coast, a...</td>\n",
       "      <td>Coastal</td>\n",
       "      <td>Balochistan</td>\n",
       "      <td>25.159400</td>\n",
       "      <td>62.181600</td>\n",
       "    </tr>\n",
       "  </tbody>\n",
       "</table>\n",
       "<p>69 rows × 6 columns</p>\n",
       "</div>"
      ],
      "text/plain": [
       "                  place_name  \\\n",
       "0                 Ansoo Lake   \n",
       "1              Astola Island   \n",
       "2               Attabad Lake   \n",
       "3            Badshahi Mosque   \n",
       "4            Baltoro Glacier   \n",
       "..                       ...   \n",
       "64             Taxila Museum   \n",
       "65               Thal Desert   \n",
       "66         The Lahore Museum   \n",
       "67  Umbrella Waterfall Poona   \n",
       "68            West Bay Beach   \n",
       "\n",
       "                                     place_descrption     category  \\\n",
       "0   Ansoo Lake is situated in Kaghan Valley of Pak...         Lake   \n",
       "1   Astola Island, also known as Jezira Haft Talar...       Island   \n",
       "2   Attabad Lake is a lake in the Gojal Valley of ...         Lake   \n",
       "3   The Badshahi Mosque is a Mughal-era congregati...       Mosque   \n",
       "4   The Baltoro Glacier, at 63 km (39 mi) in lengt...  Mountainous   \n",
       "..                                                ...          ...   \n",
       "64  Taxila Museum is located at Taxila, Punjab, Pa...       Museum   \n",
       "65  The Thal desert is situated in Punjab, Pakista...       Desert   \n",
       "66  The Lahore Museum, is a museum located in Laho...       Museum   \n",
       "67  Umbrella Waterfall is 150 km from Islamabad an...    Waterfall   \n",
       "68  The West Bay Beach lies on the Makran coast, a...      Coastal   \n",
       "\n",
       "              district   latitude  longitude  \n",
       "0   Khyber Pakhtunkhwa  34.814119  73.676428  \n",
       "1          Balochistan  25.122321  63.847948  \n",
       "2     Gilgit−Baltistan  36.345827  74.865436  \n",
       "3               Punjab  31.588126  74.309322  \n",
       "4     Gilgit−Baltistan  35.710642  76.553142  \n",
       "..                 ...        ...        ...  \n",
       "64              Punjab  33.745900  72.818700  \n",
       "65              Punjab  31.228100  71.809900  \n",
       "66              Punjab  31.568400  74.308100  \n",
       "67  Khyber Pakhtunkhwa  33.977090  73.482380  \n",
       "68         Balochistan  25.159400  62.181600  \n",
       "\n",
       "[69 rows x 6 columns]"
      ]
     },
     "execution_count": 77,
     "metadata": {},
     "output_type": "execute_result"
    }
   ],
   "source": [
    "data"
   ]
  },
  {
   "cell_type": "code",
   "execution_count": 78,
   "id": "77fb69d2",
   "metadata": {},
   "outputs": [
    {
     "data": {
      "text/plain": [
       "place_name          0\n",
       "place_descrption    0\n",
       "category            0\n",
       "district            0\n",
       "latitude            0\n",
       "longitude           0\n",
       "dtype: int64"
      ]
     },
     "execution_count": 78,
     "metadata": {},
     "output_type": "execute_result"
    }
   ],
   "source": [
    "data.isnull().sum()"
   ]
  },
  {
   "cell_type": "code",
   "execution_count": 79,
   "id": "d1cdc860",
   "metadata": {},
   "outputs": [
    {
     "data": {
      "text/html": [
       "<div>\n",
       "<style scoped>\n",
       "    .dataframe tbody tr th:only-of-type {\n",
       "        vertical-align: middle;\n",
       "    }\n",
       "\n",
       "    .dataframe tbody tr th {\n",
       "        vertical-align: top;\n",
       "    }\n",
       "\n",
       "    .dataframe thead th {\n",
       "        text-align: right;\n",
       "    }\n",
       "</style>\n",
       "<table border=\"1\" class=\"dataframe\">\n",
       "  <thead>\n",
       "    <tr style=\"text-align: right;\">\n",
       "      <th></th>\n",
       "      <th>latitude</th>\n",
       "      <th>longitude</th>\n",
       "    </tr>\n",
       "  </thead>\n",
       "  <tbody>\n",
       "    <tr>\n",
       "      <th>count</th>\n",
       "      <td>69.000000</td>\n",
       "      <td>69.000000</td>\n",
       "    </tr>\n",
       "    <tr>\n",
       "      <th>mean</th>\n",
       "      <td>32.839303</td>\n",
       "      <td>72.536530</td>\n",
       "    </tr>\n",
       "    <tr>\n",
       "      <th>std</th>\n",
       "      <td>3.511483</td>\n",
       "      <td>3.258586</td>\n",
       "    </tr>\n",
       "    <tr>\n",
       "      <th>min</th>\n",
       "      <td>24.814200</td>\n",
       "      <td>62.049984</td>\n",
       "    </tr>\n",
       "    <tr>\n",
       "      <th>25%</th>\n",
       "      <td>31.588126</td>\n",
       "      <td>72.579600</td>\n",
       "    </tr>\n",
       "    <tr>\n",
       "      <th>50%</th>\n",
       "      <td>33.858400</td>\n",
       "      <td>73.482380</td>\n",
       "    </tr>\n",
       "    <tr>\n",
       "      <th>75%</th>\n",
       "      <td>35.330300</td>\n",
       "      <td>74.309500</td>\n",
       "    </tr>\n",
       "    <tr>\n",
       "      <th>max</th>\n",
       "      <td>36.878411</td>\n",
       "      <td>76.553142</td>\n",
       "    </tr>\n",
       "  </tbody>\n",
       "</table>\n",
       "</div>"
      ],
      "text/plain": [
       "        latitude  longitude\n",
       "count  69.000000  69.000000\n",
       "mean   32.839303  72.536530\n",
       "std     3.511483   3.258586\n",
       "min    24.814200  62.049984\n",
       "25%    31.588126  72.579600\n",
       "50%    33.858400  73.482380\n",
       "75%    35.330300  74.309500\n",
       "max    36.878411  76.553142"
      ]
     },
     "execution_count": 79,
     "metadata": {},
     "output_type": "execute_result"
    }
   ],
   "source": [
    "# Summary statistics\n",
    "\n",
    "data.describe()"
   ]
  },
  {
   "cell_type": "code",
   "execution_count": 80,
   "id": "3157fae0",
   "metadata": {},
   "outputs": [
    {
     "name": "stdout",
     "output_type": "stream",
     "text": [
      "Waterfall        17\n",
      "Valley            9\n",
      "Lake              8\n",
      "Mountainous       5\n",
      "Mosque            4\n",
      "National Park     4\n",
      "Coastal           4\n",
      "Museum            4\n",
      "Hill Station      3\n",
      "Fort              3\n",
      "Monument          2\n",
      "Resort            2\n",
      "Island            1\n",
      "Temple            1\n",
      "Mine              1\n",
      "Desert            1\n",
      "Name: category, dtype: int64\n"
     ]
    }
   ],
   "source": [
    "# Count attractions by category\n",
    "attractions_by_category = data['category'].value_counts()\n",
    "print(attractions_by_category)\n"
   ]
  },
  {
   "cell_type": "code",
   "execution_count": 81,
   "id": "d5caa47a",
   "metadata": {},
   "outputs": [],
   "source": [
    "df = pd.DataFrame(data)\n"
   ]
  },
  {
   "cell_type": "code",
   "execution_count": 82,
   "id": "cc27ca79",
   "metadata": {},
   "outputs": [
    {
     "name": "stdout",
     "output_type": "stream",
     "text": [
      "Requirement already satisfied: geopandas in c:\\users\\tripkar\\anaconda3\\lib\\site-packages (0.14.3)\n",
      "Requirement already satisfied: shapely in c:\\users\\tripkar\\anaconda3\\lib\\site-packages (2.0.4)\n",
      "Requirement already satisfied: packaging in c:\\users\\tripkar\\anaconda3\\lib\\site-packages (from geopandas) (21.3)\n",
      "Requirement already satisfied: pandas>=1.4.0 in c:\\users\\tripkar\\anaconda3\\lib\\site-packages (from geopandas) (1.4.2)\n",
      "Requirement already satisfied: fiona>=1.8.21 in c:\\users\\tripkar\\anaconda3\\lib\\site-packages (from geopandas) (1.9.6)\n",
      "Requirement already satisfied: pyproj>=3.3.0 in c:\\users\\tripkar\\anaconda3\\lib\\site-packages (from geopandas) (3.6.1)\n",
      "Requirement already satisfied: numpy<3,>=1.14 in c:\\users\\tripkar\\anaconda3\\lib\\site-packages (from shapely) (1.22.4)\n",
      "Requirement already satisfied: click-plugins>=1.0 in c:\\users\\tripkar\\anaconda3\\lib\\site-packages (from fiona>=1.8.21->geopandas) (1.1.1)\n",
      "Requirement already satisfied: certifi in c:\\users\\tripkar\\anaconda3\\lib\\site-packages (from fiona>=1.8.21->geopandas) (2021.10.8)\n",
      "Requirement already satisfied: cligj>=0.5 in c:\\users\\tripkar\\anaconda3\\lib\\site-packages (from fiona>=1.8.21->geopandas) (0.7.2)\n",
      "Requirement already satisfied: importlib-metadata in c:\\users\\tripkar\\anaconda3\\lib\\site-packages (from fiona>=1.8.21->geopandas) (4.11.3)\n",
      "Requirement already satisfied: click~=8.0 in c:\\users\\tripkar\\anaconda3\\lib\\site-packages (from fiona>=1.8.21->geopandas) (8.1.7)\n",
      "Requirement already satisfied: six in c:\\users\\tripkar\\anaconda3\\lib\\site-packages (from fiona>=1.8.21->geopandas) (1.16.0)\n",
      "Requirement already satisfied: attrs>=19.2.0 in c:\\users\\tripkar\\anaconda3\\lib\\site-packages (from fiona>=1.8.21->geopandas) (21.4.0)\n",
      "Requirement already satisfied: colorama in c:\\users\\tripkar\\anaconda3\\lib\\site-packages (from click~=8.0->fiona>=1.8.21->geopandas) (0.4.4)\n",
      "Requirement already satisfied: python-dateutil>=2.8.1 in c:\\users\\tripkar\\anaconda3\\lib\\site-packages (from pandas>=1.4.0->geopandas) (2.8.2)\n",
      "Requirement already satisfied: pytz>=2020.1 in c:\\users\\tripkar\\anaconda3\\lib\\site-packages (from pandas>=1.4.0->geopandas) (2021.3)\n",
      "Requirement already satisfied: zipp>=0.5 in c:\\users\\tripkar\\anaconda3\\lib\\site-packages (from importlib-metadata->fiona>=1.8.21->geopandas) (3.7.0)\n",
      "Requirement already satisfied: pyparsing!=3.0.5,>=2.0.2 in c:\\users\\tripkar\\anaconda3\\lib\\site-packages (from packaging->geopandas) (3.0.4)\n",
      "Note: you may need to restart the kernel to use updated packages.\n"
     ]
    }
   ],
   "source": [
    "pip install geopandas shapely\n"
   ]
  },
  {
   "cell_type": "code",
   "execution_count": 83,
   "id": "f266b6bb",
   "metadata": {},
   "outputs": [],
   "source": [
    "import shapely.geometry\n"
   ]
  },
  {
   "cell_type": "code",
   "execution_count": 84,
   "id": "c4a8b66f",
   "metadata": {},
   "outputs": [],
   "source": [
    "gdf = gpd.GeoDataFrame(df, \n",
    "                        geometry=gpd.points_from_xy(df['longitude'], df['latitude']))"
   ]
  },
  {
   "cell_type": "code",
   "execution_count": 85,
   "id": "c0b5a8a8",
   "metadata": {},
   "outputs": [
    {
     "name": "stderr",
     "output_type": "stream",
     "text": [
      "C:\\Users\\TripKar\\AppData\\Local\\Temp\\ipykernel_10064\\966994927.py:1: FutureWarning: The geopandas.dataset module is deprecated and will be removed in GeoPandas 1.0. You can get the original 'naturalearth_lowres' data from https://www.naturalearthdata.com/downloads/110m-cultural-vectors/.\n",
      "  world = gpd.read_file(gpd.datasets.get_path('naturalearth_lowres'))\n"
     ]
    },
    {
     "data": {
      "image/png": "[encoded data removed]",
      "text/plain": [
       "<Figure size 720x720 with 1 Axes>"
      ]
     },
     "metadata": {
      "needs_background": "light"
     },
     "output_type": "display_data"
    }
   ],
   "source": [
    "world = gpd.read_file(gpd.datasets.get_path('naturalearth_lowres'))\n",
    "ax = world.plot(figsize=(10, 10), color='lightblue', edgecolor='k')\n",
    "gdf.plot(ax=ax, color='red', markersize=100, marker='o', label='Attractions')\n",
    "plt.title('Tourist Attractions')\n",
    "plt.legend()\n",
    "plt.show()"
   ]
  },
  {
   "cell_type": "code",
   "execution_count": 86,
   "id": "483bebec",
   "metadata": {},
   "outputs": [
    {
     "data": {
      "image/png": "[encoded data removed]",
      "text/plain": [
       "<Figure size 432x288 with 1 Axes>"
      ]
     },
     "metadata": {
      "needs_background": "light"
     },
     "output_type": "display_data"
    }
   ],
   "source": [
    "attractions_by_category.plot(kind='bar', color='skyblue')\n",
    "plt.title('Attractions by Category')\n",
    "plt.xlabel('Category')\n",
    "plt.ylabel('Count')\n",
    "plt.xticks(rotation=45)\n",
    "plt.show()"
   ]
  },
  {
   "cell_type": "code",
   "execution_count": 87,
   "id": "78a60eb5",
   "metadata": {},
   "outputs": [],
   "source": [
    "attractions_per_district =df.groupby('district').size().reset_index(name='attraction_count')\n"
   ]
  },
  {
   "cell_type": "code",
   "execution_count": 88,
   "id": "1ad9f03f",
   "metadata": {},
   "outputs": [
    {
     "ename": "NameError",
     "evalue": "name 'attractions_per_distric' is not defined",
     "output_type": "error",
     "traceback": [
      "\u001b[1;31m---------------------------------------------------------------------------\u001b[0m",
      "\u001b[1;31mNameError\u001b[0m                                 Traceback (most recent call last)",
      "Input \u001b[1;32mIn [88]\u001b[0m, in \u001b[0;36m<cell line: 1>\u001b[1;34m()\u001b[0m\n\u001b[1;32m----> 1\u001b[0m \u001b[43mattractions_per_distric\u001b[49m\n",
      "\u001b[1;31mNameError\u001b[0m: name 'attractions_per_distric' is not defined"
     ]
    }
   ],
   "source": [
    "attractions_per_distric"
   ]
  },
  {
   "cell_type": "code",
   "execution_count": null,
   "id": "c1703509",
   "metadata": {},
   "outputs": [],
   "source": [
    "# Plot attractions count per district\n",
    "plt.figure(figsize=(10, 6))\n",
    "plt.bar(attractions_per_district['district'], attractions_per_district['attraction_count'], color='skyblue')\n",
    "plt.xlabel('District')\n",
    "plt.ylabel('Number of Attractions')\n",
    "plt.title('Number of Attractions per District')\n",
    "plt.xticks(rotation=45)\n",
    "plt.grid(axis='y', linestyle='--', alpha=0.7)\n",
    "plt.show()"
   ]
  },
  {
   "cell_type": "code",
   "execution_count": null,
   "id": "1e6d6c68",
   "metadata": {},
   "outputs": [],
   "source": [
    "attractions_in_punjab = df[df['district'] == 'Punjab']\n",
    "attractions_count_in_punjab = len(attractions_in_punjab)\n",
    "\n",
    "# Print the number of attractions in 'Punjab'\n",
    "print(f\"Number of attractions in Punjab: {attractions_count_in_punjab}\")"
   ]
  },
  {
   "cell_type": "code",
   "execution_count": null,
   "id": "5239d2c8",
   "metadata": {},
   "outputs": [],
   "source": [
    "# Filter attractions in the district named 'Punjab'\n",
    "attractions_in_punjab = df[df['district'] == 'Punjab']\n",
    "\n",
    "# Display names and details of attractions in 'Punjab'\n",
    "print(f\"Attractions in Punjab:\",attractions_in_punjab)\n",
    "for index, row in attractions_in_punjab.iterrows():\n",
    "    print(f\"Name: {row['place_name']} | Category: {row['category']}\")"
   ]
  },
  {
   "cell_type": "code",
   "execution_count": 89,
   "id": "3a58876d",
   "metadata": {},
   "outputs": [],
   "source": [
    "import seaborn as sns\n"
   ]
  },
  {
   "cell_type": "code",
   "execution_count": 90,
   "id": "2f51aedc",
   "metadata": {},
   "outputs": [],
   "source": [
    "\n",
    "\n",
    "#Filter attractions categorized as 'waterfall'\n",
    "waterfall_attractions = df[df['category'] == 'waterfall']\n",
    "\n",
    "# Count waterfalls per district\n",
    "waterfalls_per_district = waterfall_attractions['district'].value_counts().reset_index()\n",
    "waterfalls_per_district.columns = ['district', 'Waterfall Count']\n",
    "\n",
    "# Plotting the number of waterfalls per district\n",
    "#plt.figure(figsize=(10, 6))\n",
    "#sns.barplot(x='district', y='Waterfall Count', data=waterfalls_per_district, palette='viridis')\n",
    "#plt.title('Number of Waterfalls in Each District')\n",
    "#plt.xlabel('District')\n",
    "#plt.ylabel('Number of Waterfalls')\n",
    "#plt.xticks(rotation=45, ha='right')\n",
    "#plt.grid(axis='y', linestyle='--', alpha=0.7)\n",
    "#plt.show"
   ]
  },
  {
   "cell_type": "code",
   "execution_count": 91,
   "id": "02d4f1a2",
   "metadata": {},
   "outputs": [],
   "source": [
    "waterfalls_per_district= len(waterfalls_per_district)"
   ]
  },
  {
   "cell_type": "code",
   "execution_count": 92,
   "id": "92bad8e5",
   "metadata": {},
   "outputs": [
    {
     "data": {
      "text/plain": [
       "0"
      ]
     },
     "execution_count": 92,
     "metadata": {},
     "output_type": "execute_result"
    }
   ],
   "source": [
    "waterfalls_per_district"
   ]
  },
  {
   "cell_type": "code",
   "execution_count": 93,
   "id": "148232bd",
   "metadata": {},
   "outputs": [],
   "source": [
    "waterfall_attractions = df[df['category'] == 'waterfall']\n",
    "waterfall_attractions=len(waterfall_attractions)"
   ]
  },
  {
   "cell_type": "code",
   "execution_count": 95,
   "id": "9008c4d5",
   "metadata": {},
   "outputs": [
    {
     "name": "stdout",
     "output_type": "stream",
     "text": [
      "Note: you may need to restart the kernel to use updated packages.\n"
     ]
    },
    {
     "name": "stderr",
     "output_type": "stream",
     "text": [
      "ERROR: Could not open requirements file: [Errno 2] No such file or directory: 'requirements.txt'\n"
     ]
    }
   ],
   "source": [
    "pip install -r requirements.txt"
   ]
  },
  {
   "cell_type": "code",
   "execution_count": null,
   "id": "29d12bc9",
   "metadata": {},
   "outputs": [],
   "source": []
  }
 ],
 "metadata": {
  "kernelspec": {
   "display_name": "Python 3 (ipykernel)",
   "language": "python",
   "name": "python3"
  },
  "language_info": {
   "codemirror_mode": {
    "name": "ipython",
    "version": 3
   },
   "file_extension": ".py",
   "mimetype": "text/x-python",
   "name": "python",
   "nbconvert_exporter": "python",
   "pygments_lexer": "ipython3",
   "version": "3.9.12"
  }
 },
 "nbformat": 4,
 "nbformat_minor": 5
}
